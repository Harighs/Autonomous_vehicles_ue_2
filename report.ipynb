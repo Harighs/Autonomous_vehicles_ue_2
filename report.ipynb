{
 "cells": [
  {
   "cell_type": "markdown",
   "id": "e22bd0d790b01abd",
   "metadata": {},
   "source": [
    "# 3D object detection"
   ]
  },
  {
   "cell_type": "markdown",
   "id": "750f3ce569d4f08c",
   "metadata": {},
   "source": [
    "### The chosen model and justification for its selection.\n",
    "  -  We have chosen the https://github.com/maudzung/SFA3D (SFA3D) for the 3d object detection task.\n",
    "  - Paper focuses on 3D object detection using LiDAR point clouds. \n",
    "  - From the paper we could see that this method does not uses Non-Max Suppression which is computationally expensive, further focusing on real-time 3d object detection applications like in our case, vehicle detection tasks.\n",
    "  - The model's inference is simple in terms of input data like a bird's-eye view (BEV) map encoded by height, intensity, and other features extracted from the raw LiDAR data.\n",
    "  \n",
    "\n",
    " \n",
    "\n",
    "\n",
    "\n"
   ]
  },
  {
   "cell_type": "markdown",
   "id": "ed2e42fc85c19684",
   "metadata": {},
   "source": [
    "## Model configuration.\n",
    "- Feature Pyramid Network (FPN) with ResNet: The model uses FPN built on a ResNet backbone to process the LiDAR data. This combination particularly helps in detecting objects across various scales and sizes by utilizing a hierarchical feature pyramid.\n",
    "- No Non-Max Suppression (NMS): Unlike typical detection frameworks that use NMS to filter out overlapping boxes, SFA3D skips this step to speed up the detection process.\n",
    "- Model takes BEV map and returns bounding box information in BEV co-ordinates, information includes class_scores, x, y, z, length, width, height and yaw.\n",
    "- The returned model predictions are in BEV co-ordinates and further we scale it to lidar co-ordinates.\n",
    "\n",
    "\n",
    "\n",
    " \n"
   ]
  },
  {
   "cell_type": "markdown",
   "id": "823e0bd58916211f",
   "metadata": {},
   "source": [
    "## Overview of Bird's Eye View (BEV) calculation.\n",
    "- Model uses a bird's-eye view (BEV) map to represent the LiDAR point cloud data. The BEV map is a 2D representation of the 3D point cloud data from a top-down perspective.    \n",
    "- The BEV map is created by discretizing the 3D space into a grid and projecting the LiDAR points onto the grid. Each cell in the grid contains information about the points that fall within it, such as the height, intensity, and other features.\n",
    "- Roughly the BEV computation can be broken down into the following steps:\n",
    "  - Filtering Points: filter out points outside the specified x, y, and z limits. \n",
    "  - Normalization: normalize the z-coordinates by subtracting the minimum z limit, which helps in handling different elevation levels correctly.\n",
    "  - Discretization: convert x and y coordinates to BEV map indices. The adjustment for y-coordinates to ensure there are no negative indices.\n",
    "  - Channel Computation: Then calculate channels for height, density, and intensity.\n",
    "  - Returned BEV Map is of 608x608x3 shape.\n",
    "\n"
   ]
  },
  {
   "cell_type": "markdown",
   "id": "8ceab1ba5f9345d4",
   "metadata": {},
   "source": [
    "# Performance metrics attained on the provided dataset.\n",
    "- The following metrics are performed for IOU threshold of 0.5.\n",
    "- We considered only the detections that were in the x range of 0 to 50 meters.\n",
    "- The following metrics are average score over all the frames in the dataset for the car class.\n",
    "\n",
    "\n",
    "`Precision: 0.6959`\n",
    "`Recall: 0.6724`\n",
    "`F1 Score: 0.6806`\n",
    "`Average IoU(Bounding box overlap): 0.4320`\n"
   ]
  },
  {
   "cell_type": "markdown",
   "id": "356d3f7b",
   "metadata": {},
   "source": [
    "## Kalman Filter \n",
    "\n",
    "About Kalman Filter:\n",
    "Kalman filtering is algorithm that us mostly used in requirments of control theory to estimate the states predictions and update based on \n",
    "measurements of datapoints based on some amount of period of time. This is also known as Linear quadratic Estimation. In this time is one of dependent parameters\n",
    "for this algorithm, also this records statistical noices and inaccuracies and estimates the values of unknown variables.this is a recursive algorithm, \n",
    "meaning that it operates in a cycle, where it takes in an input, processes it and provides an output, and then repeats the process.\n",
    "\n",
    "The algorithm works by a two-phase process having a prediction phase and an update phase. For the prediction phase, the Kalman filter produces estimates of \n",
    "the current state variables, along with their uncertainties. Once the outcome of the next measurement (necessarily corrupted with some error, including random noise) \n",
    "is observed, these estimates are updated using a weighted average, with more weight being given to estimates with greater certainty. The algorithm is recursive. \n",
    "It can operate in real time, using only the present input measurements and the state calculated previously and its uncertainty.\n",
    "\n",
    "Parameters of kalman filter:\n",
    "- State vector: It is a vector that contains all the information about the state of the system. It is the vector that we want to estimate.\n",
    "- State transition matrix: It is a matrix that describes how the state of the system changes from one time step to the next.\n",
    "- Control matrix: It is a matrix that describes how the control input affects the state of the system.\n",
    "- Measurement matrix: It is a matrix that describes how the state of the system is related to the measurements.\n",
    "- Process noise covariance: It is a matrix that describes the noise in the state transition process.\n",
    "- Measurement noise covariance: It is a matrix that describes the noise in the measurements.\n",
    "- Error covariance: It is a matrix that describes the error in the estimate of the state vector.\n",
    "\n",
    "# Result image \n",
    "'the path is kalman_output.png'\n",
    "\n",
    "![Kalman Output](kalman_output.png \"Title\")\n",
    "\n",
    "\n",
    "Here we tried to plot the x,y coordinates of the data points from frames, using kalman filter to predict the next position of the data points.\n",
    "we tried to plot the data points and the predicted points on the same graph/some video frames as birds eye view. but we were not able to do it. \n",
    "with provided instructions we were not able to plot the data points and the predicted points on the same plotting pipeline which was required to be done. (in birds eye view as well as in video frames of it)"
   ]
  },
  {
   "cell_type": "markdown",
   "id": "a019e5b02ef67d86",
   "metadata": {},
   "source": [
    "# Instructions to run the code\n",
    "\n",
    " - git clone git@github.com:Harighs/Autonomous_vehicles_ue_2.git\n",
    " - cd Autonomous_vehicles_ue_2/SFA3D\n",
    " - pip install -r requirements.txt\n",
    " - cd sfa\n",
    " - we provide the bev_maps in .pkl file format which can be downloaded using the link https://drive.google.com/file/d/1QwRw2PNACQQQuhhbGUw3f2RoqwmRPS3c/view?usp=sharing \n",
    " - place the `bev_maps_v1.pkl` inside the `sfa` folder.\n",
    " - Now run the following command to evaluate the model on the provided dataset.\n",
    "   - python 3d_object_detection.py --data_path /path/to/bev_maps_v1.pkl --image_path /path/to/images \n",
    " - Set the --data_path to the path where the `bev_maps_v1.pkl` is placed and --image_path to the path where the waymo dataset are stored in the .pb format.\n",
    "  - When running the `3d_object_detection.py` file by default it will print out the performance metrics attained on the provided dataset.\n",
    "    - in case you want to visualize the detections on the images like BEV predictions or tracking for a each and every single frame you can comment out the several lines of code. Those instructions are provided in the `3d_object_detection.py` file.\n",
    " - We have also placed the prediction results for each frame in a video format placed it as `output.mp4`.\n",
    "                 \n"
   ]
  },
  {
   "cell_type": "markdown",
   "id": "a6169c3edfa41dda",
   "metadata": {},
   "source": [
    "# Contributions\n",
    "\n",
    "| Name                    | student ID | Task                                                                                                                                                             | \n",
    "|-------------------------|------------|------------------------------------------------------------------------------------------------------------------------------------------------------------------|\n",
    "| Ariharasudhan Muthusami | K52008888  | 3d object detection, evaluation, performance metrics(SFA3D/sfa/3d_object_detection.py), report writing(report.ipynb), kalman filter(SFA3D/sfa/kalman_filter.py). | \n",
    "| Harishankar Govindasamy | K11931161  | Kalman Filter, Very short Report writing, Helped Ari with his possibilities diffrent ways to solve the problem.                                                                                                                                                                  | \n",
    "| Ayman Kamel             | K12136508  |                                                                                                                                                                  | \n",
    "| Jonathan Uyi Ehiosu     | K01628444  |                                                                                                                                                                  | \n",
    " \n"
   ]
  },
  {
   "cell_type": "code",
   "execution_count": 3,
   "id": "aad5ebaa",
   "metadata": {},
   "outputs": [
    {
     "name": "stdout",
     "output_type": "stream",
     "text": [
      "Finished!\n"
     ]
    }
   ],
   "source": [
    "print('Finished!')"
   ]
  }
 ],
 "metadata": {
  "kernelspec": {
   "display_name": "Python 3",
   "language": "python",
   "name": "python3"
  },
  "language_info": {
   "codemirror_mode": {
    "name": "ipython",
    "version": 3
   },
   "file_extension": ".py",
   "mimetype": "text/x-python",
   "name": "python",
   "nbconvert_exporter": "python",
   "pygments_lexer": "ipython3",
   "version": "3.10.14"
  }
 },
 "nbformat": 4,
 "nbformat_minor": 5
}
